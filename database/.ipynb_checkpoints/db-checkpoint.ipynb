{
 "cells": [
  {
   "cell_type": "code",
   "execution_count": 1,
   "id": "8baaf123",
   "metadata": {},
   "outputs": [],
   "source": [
    "import pandas as pd\n",
    "from sqlalchemy import *\n",
    "\n",
    "#db_path = \n",
    "#eng = create_engine(db_path)"
   ]
  },
  {
   "cell_type": "code",
   "execution_count": 1,
   "id": "1105a86f",
   "metadata": {},
   "outputs": [],
   "source": [
    "#pd.read_sql('''select * from \"TABLE\";''',eng).head(10)"
   ]
  },
  {
   "cell_type": "code",
   "execution_count": null,
   "id": "f7e826f9",
   "metadata": {},
   "outputs": [],
   "source": []
  }
 ],
 "metadata": {
  "kernelspec": {
   "display_name": "Python 3",
   "language": "python",
   "name": "python3"
  },
  "language_info": {
   "codemirror_mode": {
    "name": "ipython",
    "version": 3
   },
   "file_extension": ".py",
   "mimetype": "text/x-python",
   "name": "python",
   "nbconvert_exporter": "python",
   "pygments_lexer": "ipython3",
   "version": "3.8.8"
  }
 },
 "nbformat": 4,
 "nbformat_minor": 5
}
